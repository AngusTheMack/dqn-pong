{
 "cells": [
  {
   "cell_type": "markdown",
   "metadata": {},
   "source": [
    "# Results Analysis\n",
    "Afer completing the training for the DQN Pong, I read in the mp4 and csv files as well as the checkpoint in order to better understand the results"
   ]
  },
  {
   "cell_type": "code",
   "execution_count": 2,
   "metadata": {},
   "outputs": [],
   "source": [
    "import pandas as pd\n",
    "import numpy as np\n",
    "import matplotlib.pyplot as plt\n",
    "from PIL import Image\n",
    "import glob\n",
    "import ffmpeg\n",
    "import os\n",
    "import random\n",
    "import gym\n",
    "\n",
    "from dqn.agent import DQNAgent\n",
    "from dqn.replay_buffer import ReplayBuffer\n",
    "from dqn.wrappers import *\n",
    "import torch\n",
    "import argparse"
   ]
  },
  {
   "cell_type": "code",
   "execution_count": 3,
   "metadata": {},
   "outputs": [
    {
     "data": {
      "text/html": [
       "<div>\n",
       "<style scoped>\n",
       "    .dataframe tbody tr th:only-of-type {\n",
       "        vertical-align: middle;\n",
       "    }\n",
       "\n",
       "    .dataframe tbody tr th {\n",
       "        vertical-align: top;\n",
       "    }\n",
       "\n",
       "    .dataframe thead th {\n",
       "        text-align: right;\n",
       "    }\n",
       "</style>\n",
       "<table border=\"1\" class=\"dataframe\">\n",
       "  <thead>\n",
       "    <tr style=\"text-align: right;\">\n",
       "      <th></th>\n",
       "      <th>Rewards</th>\n",
       "      <th>Episode</th>\n",
       "    </tr>\n",
       "  </thead>\n",
       "  <tbody>\n",
       "    <tr>\n",
       "      <th>0</th>\n",
       "      <td>-20.0</td>\n",
       "      <td>0</td>\n",
       "    </tr>\n",
       "    <tr>\n",
       "      <th>1</th>\n",
       "      <td>-20.0</td>\n",
       "      <td>1</td>\n",
       "    </tr>\n",
       "    <tr>\n",
       "      <th>2</th>\n",
       "      <td>-21.0</td>\n",
       "      <td>2</td>\n",
       "    </tr>\n",
       "    <tr>\n",
       "      <th>3</th>\n",
       "      <td>-21.0</td>\n",
       "      <td>3</td>\n",
       "    </tr>\n",
       "    <tr>\n",
       "      <th>4</th>\n",
       "      <td>-21.0</td>\n",
       "      <td>4</td>\n",
       "    </tr>\n",
       "  </tbody>\n",
       "</table>\n",
       "</div>"
      ],
      "text/plain": [
       "   Rewards  Episode\n",
       "0    -20.0        0\n",
       "1    -20.0        1\n",
       "2    -21.0        2\n",
       "3    -21.0        3\n",
       "4    -21.0        4"
      ]
     },
     "execution_count": 3,
     "metadata": {},
     "output_type": "execute_result"
    }
   ],
   "source": [
    "results = pd.read_csv(\"rewards.csv\", names=[\"Rewards\"])\n",
    "results['Episode'] = results.index\n",
    "results.head()"
   ]
  },
  {
   "cell_type": "code",
   "execution_count": 12,
   "metadata": {},
   "outputs": [
    {
     "data": {
      "image/png": "[encoded data removed]",
      "text/plain": [
       "<Figure size 432x288 with 1 Axes>"
      ]
     },
     "metadata": {
      "needs_background": "light"
     },
     "output_type": "display_data"
    }
   ],
   "source": [
    "plt.plot(results.Episode, results.Rewards)\n",
    "plt.title(\"Rewards vs Episodes\")\n",
    "plt.xlabel(\"Episode #\")\n",
    "plt.ylabel(\"Rewards\")\n",
    "plt.savefig(\"submission/plot.png\")\n",
    "plt.show()"
   ]
  },
  {
   "cell_type": "code",
   "execution_count": 5,
   "metadata": {},
   "outputs": [
    {
     "data": {
      "text/plain": [
       "(None, None)"
      ]
     },
     "execution_count": 5,
     "metadata": {},
     "output_type": "execute_result"
    }
   ],
   "source": [
    "stream = ffmpeg.input('500eps.mp4')\n",
    "ffmpeg.output(stream, '500eps.gif').run()"
   ]
  },
  {
   "cell_type": "code",
   "execution_count": 14,
   "metadata": {},
   "outputs": [],
   "source": [
    "eps_start= 0.01\n",
    "hyper_params = {\n",
    "    \"seed\": 42,\n",
    "    \"env\": \"PongNoFrameskip-v4\",\n",
    "    \"replay-buffer-size\": int(5e3),\n",
    "    \"learning-rate\": 1e-4,\n",
    "    \"discount-factor\": 0.99,\n",
    "    \"num-steps\": int(1e6),\n",
    "    \"batch-size\": 32,\n",
    "    \"learning-starts\": 10000,\n",
    "    \"learning-freq\": 1,\n",
    "    \"use-double-dqn\": True, \n",
    "    \"target-update-freq\": 1000, \n",
    "    \"eps-start\": eps_start, \n",
    "    \"eps-end\": 0.01,\n",
    "    \"eps-fraction\": 0.1,\n",
    "    \"print-freq\": 10\n",
    "}\n",
    "\n",
    "np.random.seed(hyper_params[\"seed\"])\n",
    "random.seed(hyper_params[\"seed\"])\n",
    "env = gym.make(hyper_params[\"env\"])\n",
    "env.seed(hyper_params[\"seed\"])\n",
    "\n",
    "env = NoopResetEnv(env, noop_max=30)\n",
    "env = MaxAndSkipEnv(env, skip=4)\n",
    "env = EpisodicLifeEnv(env)\n",
    "env = FireResetEnv(env)\n",
    "env = WarpFrame(env)\n",
    "env = PyTorchFrame(env)\n",
    "env = ClipRewardEnv(env)\n",
    "env = FrameStack(env, 4)\n",
    "\n",
    "replay_buffer = ReplayBuffer(hyper_params[\"replay-buffer-size\"])\n",
    "\n",
    "agent = DQNAgent(\n",
    "    env.observation_space,\n",
    "    env.action_space,\n",
    "    replay_buffer,\n",
    "    use_double_dqn=hyper_params[\"use-double-dqn\"],\n",
    "    lr=hyper_params['learning-rate'],\n",
    "    batch_size=hyper_params['batch-size'],\n",
    "    gamma=hyper_params['discount-factor'],\n",
    ")\n",
    "\n",
    "agent.policy_network.load_state_dict(torch.load(\"checkpoints/checkpoint.pth\"))\n",
    "\n",
    "eps_timesteps = hyper_params[\"eps-fraction\"] * \\\n",
    "    float(hyper_params[\"num-steps\"])\n",
    "episode_rewards = []\n",
    "env = gym.wrappers.Monitor(env,'./submission/',force=True)\n",
    "state = env.reset()\n",
    "done = False\n",
    "while not done:\n",
    "    next_state, _, done, _ = env.step(agent.act(state))\n",
    "    state = next_state\n",
    "    env.render()\n",
    "env.close()"
   ]
  },
  {
   "cell_type": "code",
   "execution_count": 20,
   "metadata": {},
   "outputs": [],
   "source": [
    "vid_loc = \"\"\n",
    "for file in os.listdir(\"./submission\"):\n",
    "    if file.endswith(\".mp4\"):\n",
    "        vid_loc = os.path.join(\"./submission\", file)"
   ]
  },
  {
   "cell_type": "code",
   "execution_count": 21,
   "metadata": {},
   "outputs": [
    {
     "data": {
      "text/plain": [
       "(None, None)"
      ]
     },
     "execution_count": 21,
     "metadata": {},
     "output_type": "execute_result"
    }
   ],
   "source": [
    "stream = ffmpeg.input(vid_loc)\n",
    "stream = ffmpeg.output(stream, './submission/final_vid.gif').run()"
   ]
  },
  {
   "cell_type": "code",
   "execution_count": null,
   "metadata": {},
   "outputs": [],
   "source": []
  }
 ],
 "metadata": {
  "kernelspec": {
   "display_name": "Python 3",
   "language": "python",
   "name": "python3"
  },
  "language_info": {
   "codemirror_mode": {
    "name": "ipython",
    "version": 3
   },
   "file_extension": ".py",
   "mimetype": "text/x-python",
   "name": "python",
   "nbconvert_exporter": "python",
   "pygments_lexer": "ipython3",
   "version": "3.7.1"
  }
 },
 "nbformat": 4,
 "nbformat_minor": 4
}
